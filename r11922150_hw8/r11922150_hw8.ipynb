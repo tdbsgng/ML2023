{
 "cells": [
  {
   "cell_type": "markdown",
   "metadata": {
    "id": "YiVfKn-6tXz8"
   },
   "source": [
    "# **Homework 8 - Anomaly Detection**\n",
    "\n",
    "If there are any questions, please contact mlta-2023-spring@googlegroups.com\n",
    "\n",
    "Slide:    [Link](https://docs.google.com/presentation/d/18LkR8qulwSbi3SVoLl1XNNGjQQ_qczs_35lrJWOmHCk/edit?usp=sharing)　Kaggle: [Link](https://www.kaggle.com/t/c76950cc460140eba30a576ca7668d28)"
   ]
  },
  {
   "cell_type": "markdown",
   "metadata": {
    "id": "bDk9r2YOcDc9"
   },
   "source": [
    "# Set up the environment\n"
   ]
  },
  {
   "cell_type": "markdown",
   "metadata": {
    "id": "Oi12tJMYWi0Q"
   },
   "source": [
    "## Package installation"
   ]
  },
  {
   "cell_type": "code",
   "execution_count": 1,
   "metadata": {
    "colab": {
     "base_uri": "https://localhost:8080/"
    },
    "id": "7LexxyPWWjJB",
    "outputId": "2039780b-43f2-49b5-ffa8-2a0c33ad2d15"
   },
   "outputs": [],
   "source": [
    "# # Training progress bar\n",
    "# !pip install -q qqdm"
   ]
  },
  {
   "cell_type": "markdown",
   "metadata": {
    "id": "DCgNXSsEWuY7"
   },
   "source": [
    "## Downloading data"
   ]
  },
  {
   "cell_type": "code",
   "execution_count": 2,
   "metadata": {
    "colab": {
     "base_uri": "https://localhost:8080/"
    },
    "id": "e-yCMrIl4L60",
    "outputId": "7a5c329a-933e-4564-8423-b11469700577"
   },
   "outputs": [],
   "source": [
    "# !git clone https://github.com/chiyuanhsiao/ml2023spring-hw8"
   ]
  },
  {
   "cell_type": "markdown",
   "metadata": {
    "id": "HNe7QU7n7cqh"
   },
   "source": [
    "# Import packages"
   ]
  },
  {
   "cell_type": "code",
   "execution_count": 3,
   "metadata": {
    "id": "Jk3qFK_a7k8P"
   },
   "outputs": [],
   "source": [
    "import random\n",
    "import numpy as np\n",
    "import torch\n",
    "from torch import nn\n",
    "from torch.utils.data import DataLoader, RandomSampler, SequentialSampler, TensorDataset\n",
    "import torchvision.transforms as transforms\n",
    "import torch.nn.functional as F\n",
    "from torch.autograd import Variable\n",
    "import torchvision.models as models\n",
    "from torch.optim import Adam, AdamW\n",
    "from qqdm import qqdm, format_str\n",
    "import pandas as pd"
   ]
  },
  {
   "cell_type": "markdown",
   "metadata": {
    "id": "6X6fkGPnYyaF"
   },
   "source": [
    "# Loading data"
   ]
  },
  {
   "cell_type": "code",
   "execution_count": 4,
   "metadata": {
    "colab": {
     "base_uri": "https://localhost:8080/"
    },
    "id": "k7Wd4yiUYzAm",
    "outputId": "d8b80f1e-cbc4-4ed9-c95c-b2e3fb561f23"
   },
   "outputs": [
    {
     "name": "stdout",
     "output_type": "stream",
     "text": [
      "(100000, 64, 64, 3)\n",
      "(19636, 64, 64, 3)\n"
     ]
    }
   ],
   "source": [
    "train = np.load('trainingset.npy', allow_pickle=True, encoding='ASCII')\n",
    "test = np.load('testingset.npy', allow_pickle=True, encoding='ASCII')\n",
    "\n",
    "print(train.shape)\n",
    "print(test.shape)"
   ]
  },
  {
   "cell_type": "markdown",
   "metadata": {
    "id": "_flpmj6OYIa6"
   },
   "source": [
    "## Random seed\n",
    "Set the random seed to a certain value for reproducibility."
   ]
  },
  {
   "cell_type": "code",
   "execution_count": 5,
   "metadata": {
    "id": "Gb-dgXQYYI2Q"
   },
   "outputs": [],
   "source": [
    "def same_seeds(seed):\n",
    "    random.seed(seed)\n",
    "    np.random.seed(seed)\n",
    "    torch.manual_seed(seed)\n",
    "    if torch.cuda.is_available():\n",
    "        torch.cuda.manual_seed(seed)\n",
    "        torch.cuda.manual_seed_all(seed)\n",
    "    torch.backends.cudnn.benchmark = False\n",
    "    torch.backends.cudnn.deterministic = True\n",
    "\n",
    "same_seeds(42)"
   ]
  },
  {
   "cell_type": "markdown",
   "metadata": {
    "id": "zR9zC0_Df-CR"
   },
   "source": [
    "# Autoencoder"
   ]
  },
  {
   "cell_type": "markdown",
   "metadata": {
    "id": "1EbfwRREhA7c"
   },
   "source": [
    "# Models & loss"
   ]
  },
  {
   "cell_type": "code",
   "execution_count": 6,
   "metadata": {
    "id": "Wi8ds1fugCkR"
   },
   "outputs": [],
   "source": [
    "class fcn_autoencoder(nn.Module):\n",
    "    def __init__(self):\n",
    "        super(fcn_autoencoder, self).__init__()\n",
    "        self.encoder = nn.Sequential(\n",
    "            nn.Linear(size*size * 3, 512),\n",
    "            nn.ReLU(),\n",
    "            nn.Linear(512, 128),\n",
    "            nn.ReLU(),\n",
    "            nn.Linear(128, 32),\n",
    "            nn.ReLU(),\n",
    "        )\n",
    "        \n",
    "        self.decoder = nn.Sequential(\n",
    "            nn.Linear(32, 128),\n",
    "            nn.ReLU(),\n",
    "            nn.Linear(128, 512),\n",
    "            nn.ReLU(),\n",
    "            nn.Linear(512, size*size*3), \n",
    "            nn.Tanh()\n",
    "        )\n",
    "\n",
    "    def forward(self, x):\n",
    "        x = self.encoder(x)\n",
    "        x = self.decoder(x)\n",
    "        return x\n",
    "\n",
    "\n",
    "class conv_autoencoder(nn.Module):\n",
    "    def __init__(self):\n",
    "        super(conv_autoencoder, self).__init__()\n",
    "        self.encoder = nn.Sequential(\n",
    "            nn.Conv2d(3, 64, 4, stride=2, padding=1),      \n",
    "            nn.LeakyReLU(0.1),\n",
    "            nn.Conv2d(64, 128, 4, stride=2, padding=1),        \n",
    "            \n",
    "        )\n",
    "\n",
    "        self.fcn_encoder = nn.Sequential(\n",
    "            nn.Linear(64 * 64 * 3, 512),\n",
    "            nn.ReLU(),\n",
    "            nn.Linear(512, 128),\n",
    "            nn.ReLU(),\n",
    "            nn.Linear(128, 32),\n",
    "        )\n",
    "        self.fcn = nn.Linear(128*16*16,32)\n",
    "        self.fcn2 = nn.Linear(32,128*16*16)\n",
    "        self.decoder = nn.Sequential(\n",
    "            nn.ConvTranspose2d(128, 64, 4, stride=2, padding=1),       \n",
    "            nn.LeakyReLU(0.1),\n",
    "            nn.ConvTranspose2d(64, 3, 4, stride=2, padding=1),\n",
    "            nn.Tanh(),\n",
    "        )\n",
    "    def forward(self, x):\n",
    "        x1 = self.fcn_encoder(x.reshape([x.shape[0],3*64*64]))\n",
    "        x = self.encoder(x)\n",
    "        x = x.reshape([x.shape[0],128*16*16])\n",
    "        x = self.fcn(x)\n",
    "        x += x1\n",
    "        x = self.fcn2(x)\n",
    "        x = x.reshape([x.shape[0],128,16,16])\n",
    "        x = self.decoder(x)\n",
    "        return x\n",
    "\n",
    "\n",
    "class VAE(nn.Module):\n",
    "    def __init__(self):\n",
    "        super(VAE, self).__init__()\n",
    "        self.encoder = nn.Sequential(\n",
    "            nn.Conv2d(3, 12, 4, stride=2, padding=1),            \n",
    "            nn.ReLU(),\n",
    "            nn.Conv2d(12, 24, 4, stride=2, padding=1),    \n",
    "            nn.ReLU(),\n",
    "        )\n",
    "        self.enc_out_1 = nn.Sequential(\n",
    "            nn.Conv2d(24, 48, 4, stride=2, padding=1),  \n",
    "            nn.ReLU(),\n",
    "        )\n",
    "        self.enc_out_2 = nn.Sequential(\n",
    "            nn.Conv2d(24, 48, 4, stride=2, padding=1),\n",
    "            nn.ReLU(),\n",
    "        )\n",
    "        # Hint: can add more layers to encoder and decoder\n",
    "        self.decoder = nn.Sequential(\n",
    "\t\t\t      nn.ConvTranspose2d(48, 24, 4, stride=2, padding=1), \n",
    "            nn.ReLU(),\n",
    "\t\t\t      nn.ConvTranspose2d(24, 12, 4, stride=2, padding=1), \n",
    "            nn.ReLU(),\n",
    "            nn.ConvTranspose2d(12, 3, 4, stride=2, padding=1), \n",
    "            nn.Tanh(),\n",
    "        )\n",
    "\n",
    "    def encode(self, x):\n",
    "        h1 = self.encoder(x)\n",
    "        return self.enc_out_1(h1), self.enc_out_2(h1)\n",
    "\n",
    "    def reparametrize(self, mu, logvar):\n",
    "        std = logvar.mul(0.5).exp_()\n",
    "        if torch.cuda.is_available():\n",
    "            eps = torch.cuda.FloatTensor(std.size()).normal_()\n",
    "        else:\n",
    "            eps = torch.FloatTensor(std.size()).normal_()\n",
    "        eps = Variable(eps)\n",
    "        return eps.mul(std).add_(mu)\n",
    "\n",
    "    def decode(self, z):\n",
    "        return self.decoder(z)\n",
    "\n",
    "    def forward(self, x):\n",
    "        mu, logvar = self.encode(x)\n",
    "        z = self.reparametrize(mu, logvar)\n",
    "        return self.decode(z), mu, logvar\n",
    "\n",
    "\n",
    "def loss_vae(recon_x, x, mu, logvar, criterion):\n",
    "    \"\"\"\n",
    "    recon_x: generating images\n",
    "    x: origin images\n",
    "    mu: latent mean\n",
    "    logvar: latent log variance\n",
    "    \"\"\"\n",
    "    mse = criterion(recon_x, x)\n",
    "    KLD_element = mu.pow(2).add_(logvar.exp()).mul_(-1).add_(1).add_(logvar)\n",
    "    KLD = torch.sum(KLD_element).mul_(-0.5)\n",
    "    return mse + KLD"
   ]
  },
  {
   "cell_type": "markdown",
   "metadata": {
    "id": "vrJ9bScg9AgO"
   },
   "source": [
    "# Dataset module\n",
    "\n",
    "Module for obtaining and processing data. The transform function here normalizes image's pixels from [0, 255] to [-1.0, 1.0].\n"
   ]
  },
  {
   "cell_type": "code",
   "execution_count": 7,
   "metadata": {
    "id": "33fWhE-h9LPq"
   },
   "outputs": [],
   "source": [
    "class CustomTensorDataset(TensorDataset):\n",
    "    \"\"\"TensorDataset with support of transforms.\n",
    "    \"\"\"\n",
    "    def __init__(self, tensors):\n",
    "        self.tensors = tensors\n",
    "        if tensors.shape[-1] == 3:\n",
    "            self.tensors = tensors.permute(0, 3, 1, 2)\n",
    "        \n",
    "        self.transform = transforms.Compose([\n",
    "          transforms.Lambda(lambda x: x.to(torch.float32)),\n",
    "          transforms.Lambda(lambda x: 2. * x/255. - 1.),\n",
    "            transforms.CenterCrop(size)\n",
    "        ])\n",
    "        \n",
    "    def __getitem__(self, index):\n",
    "        x = self.tensors[index]\n",
    "        \n",
    "        if self.transform:\n",
    "            # mapping images to [-1.0, 1.0]\n",
    "            x = self.transform(x)\n",
    "\n",
    "        return x\n",
    "\n",
    "    def __len__(self):\n",
    "        return len(self.tensors)"
   ]
  },
  {
   "cell_type": "markdown",
   "metadata": {
    "id": "XKNUImqUhIeq"
   },
   "source": [
    "# Training"
   ]
  },
  {
   "cell_type": "markdown",
   "metadata": {
    "id": "7ebAJdjFmS08"
   },
   "source": [
    "## Configuration\n"
   ]
  },
  {
   "cell_type": "code",
   "execution_count": 8,
   "metadata": {
    "id": "in7yLfmqtZTk"
   },
   "outputs": [],
   "source": [
    "# Training hyperparameters\n",
    "num_epochs = 100\n",
    "batch_size = 128 # Hint: batch size may be lower\n",
    "learning_rate = 1e-3\n",
    "size = 42\n",
    "# Build training dataloader\n",
    "x = torch.from_numpy(train)\n",
    "train_dataset = CustomTensorDataset(x)\n",
    "\n",
    "train_sampler = RandomSampler(train_dataset)\n",
    "train_dataloader = DataLoader(train_dataset, sampler=train_sampler, batch_size=batch_size)\n",
    "\n",
    "# Model\n",
    "model_type = 'fcn'   # selecting a model type from {'cnn', 'fcn', 'vae', 'resnet'}\n",
    "model_classes = {'fcn': fcn_autoencoder(), 'cnn': conv_autoencoder(), 'vae': VAE()}\n",
    "model = model_classes[model_type].cuda()\n",
    "\n",
    "\n",
    "# Loss and optimizer\n",
    "criterion = nn.MSELoss()\n",
    "optimizer = torch.optim.AdamW(model.parameters(), lr=learning_rate)\n"
   ]
  },
  {
   "cell_type": "markdown",
   "metadata": {
    "id": "wyooN-JPm8sS"
   },
   "source": [
    "## Training loop"
   ]
  },
  {
   "cell_type": "code",
   "execution_count": null,
   "metadata": {
    "colab": {
     "base_uri": "https://localhost:8080/"
    },
    "id": "JoW1UrrxgI_U",
    "outputId": "78a74d89-0605-4e57-d99c-f86cf110cda4"
   },
   "outputs": [
    {
     "name": "stderr",
     "output_type": "stream",
     "text": [
      " \u001b[1mIters\u001b[0m    \u001b[1mElapsed Time\u001b[0m      \u001b[1mSpeed\u001b[0m                                               \n",
      " \u001b[99m0/\u001b[93m100\u001b[0m\u001b[0m  \u001b[99m        -        \u001b[0m  \u001b[99m   -    \u001b[0m                                             \n",
      "\u001b[1mDescription\u001b[0m   0.0% |                                       |                    \u001b[K\u001b[F\u001b[K\u001b[F \u001b[1mIters\u001b[0m    \u001b[1mElapsed Time\u001b[0m      \u001b[1mSpeed\u001b[0m    \u001b[1mepoch\u001b[0m   \u001b[1mloss\u001b[0m                               \n",
      " \u001b[99m1/\u001b[93m100\u001b[0m\u001b[0m  \u001b[99m00:00:03<\u001b[93m00:06:01\u001b[0m\u001b[0m  \u001b[99m0.27it/s\u001b[0m  \u001b[99m1/100\u001b[0m  \u001b[99m0.06257\u001b[0m                             \n",
      "\u001b[1mDescription\u001b[0m   1.0% |                                       |                    \u001b[K\u001b[F\u001b[K\u001b[F \u001b[1mIters\u001b[0m    \u001b[1mElapsed Time\u001b[0m      \u001b[1mSpeed\u001b[0m    \u001b[1mepoch\u001b[0m   \u001b[1mloss\u001b[0m                               \n",
      " \u001b[99m2/\u001b[93m100\u001b[0m\u001b[0m  \u001b[99m00:00:06<\u001b[93m00:05:33\u001b[0m\u001b[0m  \u001b[99m0.29it/s\u001b[0m  \u001b[99m2/100\u001b[0m  \u001b[99m0.04450\u001b[0m                             \n",
      "\u001b[1mDescription\u001b[0m   2.0% |                                       |                    \u001b[K\u001b[F\u001b[K\u001b[F \u001b[1mIters\u001b[0m    \u001b[1mElapsed Time\u001b[0m      \u001b[1mSpeed\u001b[0m    \u001b[1mepoch\u001b[0m   \u001b[1mloss\u001b[0m                               \n",
      " \u001b[99m3/\u001b[93m100\u001b[0m\u001b[0m  \u001b[99m00:00:09<\u001b[93m00:05:22\u001b[0m\u001b[0m  \u001b[99m0.30it/s\u001b[0m  \u001b[99m3/100\u001b[0m  \u001b[99m0.04269\u001b[0m                             \n",
      "\u001b[1mDescription\u001b[0m   3.0% |\u001b[97m█\u001b[0m                                      |                    \u001b[K\u001b[F\u001b[K\u001b[F \u001b[1mIters\u001b[0m    \u001b[1mElapsed Time\u001b[0m      \u001b[1mSpeed\u001b[0m    \u001b[1mepoch\u001b[0m   \u001b[1mloss\u001b[0m                               \n",
      " \u001b[99m4/\u001b[93m100\u001b[0m\u001b[0m  \u001b[99m00:00:13<\u001b[93m00:05:15\u001b[0m\u001b[0m  \u001b[99m0.30it/s\u001b[0m  \u001b[99m4/100\u001b[0m  \u001b[99m0.04179\u001b[0m                             \n",
      "\u001b[1mDescription\u001b[0m   4.0% |\u001b[97m█\u001b[0m                                      |                    \u001b[K\u001b[F\u001b[K\u001b[F \u001b[1mIters\u001b[0m    \u001b[1mElapsed Time\u001b[0m      \u001b[1mSpeed\u001b[0m    \u001b[1mepoch\u001b[0m   \u001b[1mloss\u001b[0m                               \n",
      " \u001b[99m5/\u001b[93m100\u001b[0m\u001b[0m  \u001b[99m00:00:16<\u001b[93m00:05:09\u001b[0m\u001b[0m  \u001b[99m0.31it/s\u001b[0m  \u001b[99m5/100\u001b[0m  \u001b[99m0.04123\u001b[0m                             \n",
      "\u001b[1mDescription\u001b[0m   5.0% |\u001b[97m█\u001b[0m                                      |                    \u001b[K\u001b[F\u001b[K\u001b[F \u001b[1mIters\u001b[0m    \u001b[1mElapsed Time\u001b[0m      \u001b[1mSpeed\u001b[0m    \u001b[1mepoch\u001b[0m   \u001b[1mloss\u001b[0m                               \n",
      " \u001b[99m6/\u001b[93m100\u001b[0m\u001b[0m  \u001b[99m00:00:19<\u001b[93m00:05:04\u001b[0m\u001b[0m  \u001b[99m0.31it/s\u001b[0m  \u001b[99m6/100\u001b[0m  \u001b[99m0.04081\u001b[0m                             \n",
      "\u001b[1mDescription\u001b[0m   6.0% |\u001b[97m█\u001b[0m\u001b[97m█\u001b[0m                                     |                    \u001b[K\u001b[F\u001b[K\u001b[F \u001b[1mIters\u001b[0m    \u001b[1mElapsed Time\u001b[0m      \u001b[1mSpeed\u001b[0m    \u001b[1mepoch\u001b[0m   \u001b[1mloss\u001b[0m                               \n",
      " \u001b[99m7/\u001b[93m100\u001b[0m\u001b[0m  \u001b[99m00:00:22<\u001b[93m00:05:00\u001b[0m\u001b[0m  \u001b[99m0.31it/s\u001b[0m  \u001b[99m7/100\u001b[0m  \u001b[99m0.04049\u001b[0m                             \n",
      "\u001b[1mDescription\u001b[0m   7.0% |\u001b[97m█\u001b[0m\u001b[97m█\u001b[0m                                     |                    \u001b[K\u001b[F\u001b[K\u001b[F \u001b[1mIters\u001b[0m    \u001b[1mElapsed Time\u001b[0m      \u001b[1mSpeed\u001b[0m    \u001b[1mepoch\u001b[0m   \u001b[1mloss\u001b[0m                               \n",
      " \u001b[99m8/\u001b[93m100\u001b[0m\u001b[0m  \u001b[99m00:00:25<\u001b[93m00:04:56\u001b[0m\u001b[0m  \u001b[99m0.31it/s\u001b[0m  \u001b[99m8/100\u001b[0m  \u001b[99m0.04020\u001b[0m                             \n",
      "\u001b[1mDescription\u001b[0m   8.0% |\u001b[97m█\u001b[0m\u001b[97m█\u001b[0m\u001b[97m█\u001b[0m                                    |                    \u001b[K\u001b[F\u001b[K\u001b[F \u001b[1mIters\u001b[0m    \u001b[1mElapsed Time\u001b[0m      \u001b[1mSpeed\u001b[0m    \u001b[1mepoch\u001b[0m   \u001b[1mloss\u001b[0m                               \n",
      " \u001b[99m9/\u001b[93m100\u001b[0m\u001b[0m  \u001b[99m00:00:28<\u001b[93m00:04:52\u001b[0m\u001b[0m  \u001b[99m0.31it/s\u001b[0m  \u001b[99m9/100\u001b[0m  \u001b[99m0.04003\u001b[0m                             \n",
      "\u001b[1mDescription\u001b[0m   9.0% |\u001b[97m█\u001b[0m\u001b[97m█\u001b[0m\u001b[97m█\u001b[0m                                    |                    \u001b[K\u001b[F\u001b[K\u001b[F \u001b[1mIters\u001b[0m     \u001b[1mElapsed Time\u001b[0m      \u001b[1mSpeed\u001b[0m    \u001b[1mepoch\u001b[0m    \u001b[1mloss\u001b[0m                             \n",
      " \u001b[99m10/\u001b[93m100\u001b[0m\u001b[0m  \u001b[99m00:00:32<\u001b[93m00:04:49\u001b[0m\u001b[0m  \u001b[99m0.31it/s\u001b[0m  \u001b[99m10/100\u001b[0m  \u001b[99m0.03984\u001b[0m                           \n",
      "\u001b[1mDescription\u001b[0m  10.0% |\u001b[97m█\u001b[0m\u001b[97m█\u001b[0m\u001b[97m█\u001b[0m                                    |                    \u001b[K\u001b[F\u001b[K\u001b[F \u001b[1mIters\u001b[0m     \u001b[1mElapsed Time\u001b[0m      \u001b[1mSpeed\u001b[0m    \u001b[1mepoch\u001b[0m    \u001b[1mloss\u001b[0m                             \n",
      " \u001b[99m11/\u001b[93m100\u001b[0m\u001b[0m  \u001b[99m00:00:35<\u001b[93m00:04:45\u001b[0m\u001b[0m  \u001b[99m0.31it/s\u001b[0m  \u001b[99m11/100\u001b[0m  \u001b[99m0.03966\u001b[0m                           \n",
      "\u001b[1mDescription\u001b[0m  11.0% |\u001b[97m█\u001b[0m\u001b[97m█\u001b[0m\u001b[97m█\u001b[0m\u001b[97m█\u001b[0m                                   |                    \u001b[K\u001b[F\u001b[K\u001b[F \u001b[1mIters\u001b[0m     \u001b[1mElapsed Time\u001b[0m      \u001b[1mSpeed\u001b[0m    \u001b[1mepoch\u001b[0m    \u001b[1mloss\u001b[0m                             \n",
      " \u001b[99m12/\u001b[93m100\u001b[0m\u001b[0m  \u001b[99m00:00:38<\u001b[93m00:04:41\u001b[0m\u001b[0m  \u001b[99m0.31it/s\u001b[0m  \u001b[99m12/100\u001b[0m  \u001b[99m0.03951\u001b[0m                           \n",
      "\u001b[1mDescription\u001b[0m  12.0% |\u001b[97m█\u001b[0m\u001b[97m█\u001b[0m\u001b[97m█\u001b[0m\u001b[97m█\u001b[0m                                   |                    \u001b[K\u001b[F\u001b[K\u001b[F \u001b[1mIters\u001b[0m     \u001b[1mElapsed Time\u001b[0m      \u001b[1mSpeed\u001b[0m    \u001b[1mepoch\u001b[0m    \u001b[1mloss\u001b[0m                             \n",
      " \u001b[99m13/\u001b[93m100\u001b[0m\u001b[0m  \u001b[99m00:00:41<\u001b[93m00:04:38\u001b[0m\u001b[0m  \u001b[99m0.31it/s\u001b[0m  \u001b[99m13/100\u001b[0m  \u001b[99m0.03939\u001b[0m                           \n",
      "\u001b[1mDescription\u001b[0m  13.0% |\u001b[97m█\u001b[0m\u001b[97m█\u001b[0m\u001b[97m█\u001b[0m\u001b[97m█\u001b[0m\u001b[97m█\u001b[0m                                  |                    \u001b[K\u001b[F\u001b[K\u001b[F \u001b[1mIters\u001b[0m     \u001b[1mElapsed Time\u001b[0m      \u001b[1mSpeed\u001b[0m    \u001b[1mepoch\u001b[0m    \u001b[1mloss\u001b[0m                             \n",
      " \u001b[99m14/\u001b[93m100\u001b[0m\u001b[0m  \u001b[99m00:00:44<\u001b[93m00:04:34\u001b[0m\u001b[0m  \u001b[99m0.31it/s\u001b[0m  \u001b[99m14/100\u001b[0m  \u001b[99m0.03924\u001b[0m                           \n",
      "\u001b[1mDescription\u001b[0m  14.0% |\u001b[97m█\u001b[0m\u001b[97m█\u001b[0m\u001b[97m█\u001b[0m\u001b[97m█\u001b[0m\u001b[97m█\u001b[0m                                  |                    \u001b[K\u001b[F\u001b[K\u001b[F \u001b[1mIters\u001b[0m     \u001b[1mElapsed Time\u001b[0m      \u001b[1mSpeed\u001b[0m    \u001b[1mepoch\u001b[0m    \u001b[1mloss\u001b[0m                             \n",
      " \u001b[99m15/\u001b[93m100\u001b[0m\u001b[0m  \u001b[99m00:00:47<\u001b[93m00:04:31\u001b[0m\u001b[0m  \u001b[99m0.31it/s\u001b[0m  \u001b[99m15/100\u001b[0m  \u001b[99m0.03914\u001b[0m                           \n",
      "\u001b[1mDescription\u001b[0m  15.0% |\u001b[97m█\u001b[0m\u001b[97m█\u001b[0m\u001b[97m█\u001b[0m\u001b[97m█\u001b[0m\u001b[97m█\u001b[0m                                  |                    \u001b[K\u001b[F\u001b[K\u001b[F \u001b[1mIters\u001b[0m     \u001b[1mElapsed Time\u001b[0m      \u001b[1mSpeed\u001b[0m    \u001b[1mepoch\u001b[0m    \u001b[1mloss\u001b[0m                             \n",
      " \u001b[99m16/\u001b[93m100\u001b[0m\u001b[0m  \u001b[99m00:00:51<\u001b[93m00:04:28\u001b[0m\u001b[0m  \u001b[99m0.31it/s\u001b[0m  \u001b[99m16/100\u001b[0m  \u001b[99m0.03906\u001b[0m                           \n",
      "\u001b[1mDescription\u001b[0m  16.0% |\u001b[97m█\u001b[0m\u001b[97m█\u001b[0m\u001b[97m█\u001b[0m\u001b[97m█\u001b[0m\u001b[97m█\u001b[0m\u001b[97m█\u001b[0m                                 |                    \u001b[K\u001b[F\u001b[K\u001b[F \u001b[1mIters\u001b[0m     \u001b[1mElapsed Time\u001b[0m      \u001b[1mSpeed\u001b[0m    \u001b[1mepoch\u001b[0m    \u001b[1mloss\u001b[0m                             \n",
      " \u001b[99m17/\u001b[93m100\u001b[0m\u001b[0m  \u001b[99m00:00:54<\u001b[93m00:04:24\u001b[0m\u001b[0m  \u001b[99m0.31it/s\u001b[0m  \u001b[99m17/100\u001b[0m  \u001b[99m0.03896\u001b[0m                           \n",
      "\u001b[1mDescription\u001b[0m  17.0% |\u001b[97m█\u001b[0m\u001b[97m█\u001b[0m\u001b[97m█\u001b[0m\u001b[97m█\u001b[0m\u001b[97m█\u001b[0m\u001b[97m█\u001b[0m                                 |                    \u001b[K\u001b[F\u001b[K\u001b[F \u001b[1mIters\u001b[0m     \u001b[1mElapsed Time\u001b[0m      \u001b[1mSpeed\u001b[0m    \u001b[1mepoch\u001b[0m    \u001b[1mloss\u001b[0m                             \n",
      " \u001b[99m18/\u001b[93m100\u001b[0m\u001b[0m  \u001b[99m00:00:57<\u001b[93m00:04:21\u001b[0m\u001b[0m  \u001b[99m0.31it/s\u001b[0m  \u001b[99m18/100\u001b[0m  \u001b[99m0.03885\u001b[0m                           \n",
      "\u001b[1mDescription\u001b[0m  18.0% |\u001b[97m█\u001b[0m\u001b[97m█\u001b[0m\u001b[97m█\u001b[0m\u001b[97m█\u001b[0m\u001b[97m█\u001b[0m\u001b[97m█\u001b[0m\u001b[97m█\u001b[0m                                |                    \u001b[K\u001b[F\u001b[K\u001b[F \u001b[1mIters\u001b[0m     \u001b[1mElapsed Time\u001b[0m      \u001b[1mSpeed\u001b[0m    \u001b[1mepoch\u001b[0m    \u001b[1mloss\u001b[0m                             \n",
      " \u001b[99m19/\u001b[93m100\u001b[0m\u001b[0m  \u001b[99m00:01:00<\u001b[93m00:04:18\u001b[0m\u001b[0m  \u001b[99m0.31it/s\u001b[0m  \u001b[99m19/100\u001b[0m  \u001b[99m0.03875\u001b[0m                           \n",
      "\u001b[1mDescription\u001b[0m  19.0% |\u001b[97m█\u001b[0m\u001b[97m█\u001b[0m\u001b[97m█\u001b[0m\u001b[97m█\u001b[0m\u001b[97m█\u001b[0m\u001b[97m█\u001b[0m\u001b[97m█\u001b[0m                                |                    \u001b[K\u001b[F\u001b[K\u001b[F \u001b[1mIters\u001b[0m     \u001b[1mElapsed Time\u001b[0m      \u001b[1mSpeed\u001b[0m    \u001b[1mepoch\u001b[0m    \u001b[1mloss\u001b[0m                             \n",
      " \u001b[99m20/\u001b[93m100\u001b[0m\u001b[0m  \u001b[99m00:01:03<\u001b[93m00:04:14\u001b[0m\u001b[0m  \u001b[99m0.31it/s\u001b[0m  \u001b[99m20/100\u001b[0m  \u001b[99m0.03868\u001b[0m                           \n"
     ]
    },
    {
     "name": "stderr",
     "output_type": "stream",
     "text": [
      "\u001b[1mDescription\u001b[0m  20.0% |\u001b[97m█\u001b[0m\u001b[97m█\u001b[0m\u001b[97m█\u001b[0m\u001b[97m█\u001b[0m\u001b[97m█\u001b[0m\u001b[97m█\u001b[0m\u001b[97m█\u001b[0m                                |                    \u001b[K\u001b[F\u001b[K\u001b[F \u001b[1mIters\u001b[0m     \u001b[1mElapsed Time\u001b[0m      \u001b[1mSpeed\u001b[0m    \u001b[1mepoch\u001b[0m    \u001b[1mloss\u001b[0m                             \n",
      " \u001b[99m21/\u001b[93m100\u001b[0m\u001b[0m  \u001b[99m00:01:06<\u001b[93m00:04:11\u001b[0m\u001b[0m  \u001b[99m0.31it/s\u001b[0m  \u001b[99m21/100\u001b[0m  \u001b[99m0.03860\u001b[0m                           \n",
      "\u001b[1mDescription\u001b[0m  21.0% |\u001b[97m█\u001b[0m\u001b[97m█\u001b[0m\u001b[97m█\u001b[0m\u001b[97m█\u001b[0m\u001b[97m█\u001b[0m\u001b[97m█\u001b[0m\u001b[97m█\u001b[0m\u001b[97m█\u001b[0m                               |                    \u001b[K\u001b[F\u001b[K\u001b[F \u001b[1mIters\u001b[0m     \u001b[1mElapsed Time\u001b[0m      \u001b[1mSpeed\u001b[0m    \u001b[1mepoch\u001b[0m    \u001b[1mloss\u001b[0m                             \n",
      " \u001b[99m22/\u001b[93m100\u001b[0m\u001b[0m  \u001b[99m00:01:10<\u001b[93m00:04:08\u001b[0m\u001b[0m  \u001b[99m0.31it/s\u001b[0m  \u001b[99m22/100\u001b[0m  \u001b[99m0.03853\u001b[0m                           \n",
      "\u001b[1mDescription\u001b[0m  22.0% |\u001b[97m█\u001b[0m\u001b[97m█\u001b[0m\u001b[97m█\u001b[0m\u001b[97m█\u001b[0m\u001b[97m█\u001b[0m\u001b[97m█\u001b[0m\u001b[97m█\u001b[0m\u001b[97m█\u001b[0m                               |                    \u001b[K\u001b[F\u001b[K\u001b[F \u001b[1mIters\u001b[0m     \u001b[1mElapsed Time\u001b[0m      \u001b[1mSpeed\u001b[0m    \u001b[1mepoch\u001b[0m    \u001b[1mloss\u001b[0m                             \n",
      " \u001b[99m23/\u001b[93m100\u001b[0m\u001b[0m  \u001b[99m00:01:13<\u001b[93m00:04:05\u001b[0m\u001b[0m  \u001b[99m0.31it/s\u001b[0m  \u001b[99m23/100\u001b[0m  \u001b[99m0.03847\u001b[0m                           \n",
      "\u001b[1mDescription\u001b[0m  23.0% |\u001b[97m█\u001b[0m\u001b[97m█\u001b[0m\u001b[97m█\u001b[0m\u001b[97m█\u001b[0m\u001b[97m█\u001b[0m\u001b[97m█\u001b[0m\u001b[97m█\u001b[0m\u001b[97m█\u001b[0m                               |                    \u001b[K\u001b[F\u001b[K\u001b[F \u001b[1mIters\u001b[0m     \u001b[1mElapsed Time\u001b[0m      \u001b[1mSpeed\u001b[0m    \u001b[1mepoch\u001b[0m    \u001b[1mloss\u001b[0m                             \n",
      " \u001b[99m24/\u001b[93m100\u001b[0m\u001b[0m  \u001b[99m00:01:16<\u001b[93m00:04:01\u001b[0m\u001b[0m  \u001b[99m0.31it/s\u001b[0m  \u001b[99m24/100\u001b[0m  \u001b[99m0.03839\u001b[0m                           \n",
      "\u001b[1mDescription\u001b[0m  24.0% |\u001b[97m█\u001b[0m\u001b[97m█\u001b[0m\u001b[97m█\u001b[0m\u001b[97m█\u001b[0m\u001b[97m█\u001b[0m\u001b[97m█\u001b[0m\u001b[97m█\u001b[0m\u001b[97m█\u001b[0m\u001b[97m█\u001b[0m                              |                    \u001b[K\u001b[F\u001b[K\u001b[F \u001b[1mIters\u001b[0m     \u001b[1mElapsed Time\u001b[0m      \u001b[1mSpeed\u001b[0m    \u001b[1mepoch\u001b[0m    \u001b[1mloss\u001b[0m                             \n",
      " \u001b[99m25/\u001b[93m100\u001b[0m\u001b[0m  \u001b[99m00:01:19<\u001b[93m00:03:58\u001b[0m\u001b[0m  \u001b[99m0.31it/s\u001b[0m  \u001b[99m25/100\u001b[0m  \u001b[99m0.03831\u001b[0m                           \n",
      "\u001b[1mDescription\u001b[0m  25.0% |\u001b[97m█\u001b[0m\u001b[97m█\u001b[0m\u001b[97m█\u001b[0m\u001b[97m█\u001b[0m\u001b[97m█\u001b[0m\u001b[97m█\u001b[0m\u001b[97m█\u001b[0m\u001b[97m█\u001b[0m\u001b[97m█\u001b[0m                              |                    \u001b[K\u001b[F\u001b[K\u001b[F \u001b[1mIters\u001b[0m     \u001b[1mElapsed Time\u001b[0m      \u001b[1mSpeed\u001b[0m    \u001b[1mepoch\u001b[0m    \u001b[1mloss\u001b[0m                             \n",
      " \u001b[99m26/\u001b[93m100\u001b[0m\u001b[0m  \u001b[99m00:01:22<\u001b[93m00:03:55\u001b[0m\u001b[0m  \u001b[99m0.31it/s\u001b[0m  \u001b[99m26/100\u001b[0m  \u001b[99m0.03828\u001b[0m                           \n",
      "\u001b[1mDescription\u001b[0m  26.0% |\u001b[97m█\u001b[0m\u001b[97m█\u001b[0m\u001b[97m█\u001b[0m\u001b[97m█\u001b[0m\u001b[97m█\u001b[0m\u001b[97m█\u001b[0m\u001b[97m█\u001b[0m\u001b[97m█\u001b[0m\u001b[97m█\u001b[0m\u001b[97m█\u001b[0m                             |                    \u001b[K\u001b[F\u001b[K\u001b[F \u001b[1mIters\u001b[0m     \u001b[1mElapsed Time\u001b[0m      \u001b[1mSpeed\u001b[0m    \u001b[1mepoch\u001b[0m    \u001b[1mloss\u001b[0m                             \n",
      " \u001b[99m27/\u001b[93m100\u001b[0m\u001b[0m  \u001b[99m00:01:25<\u001b[93m00:03:52\u001b[0m\u001b[0m  \u001b[99m0.31it/s\u001b[0m  \u001b[99m27/100\u001b[0m  \u001b[99m0.03821\u001b[0m                           \n",
      "\u001b[1mDescription\u001b[0m  27.0% |\u001b[97m█\u001b[0m\u001b[97m█\u001b[0m\u001b[97m█\u001b[0m\u001b[97m█\u001b[0m\u001b[97m█\u001b[0m\u001b[97m█\u001b[0m\u001b[97m█\u001b[0m\u001b[97m█\u001b[0m\u001b[97m█\u001b[0m\u001b[97m█\u001b[0m                             |                    \u001b[K\u001b[F\u001b[K\u001b[F \u001b[1mIters\u001b[0m     \u001b[1mElapsed Time\u001b[0m      \u001b[1mSpeed\u001b[0m    \u001b[1mepoch\u001b[0m    \u001b[1mloss\u001b[0m                             \n",
      " \u001b[99m28/\u001b[93m100\u001b[0m\u001b[0m  \u001b[99m00:01:29<\u001b[93m00:03:48\u001b[0m\u001b[0m  \u001b[99m0.31it/s\u001b[0m  \u001b[99m28/100\u001b[0m  \u001b[99m0.03813\u001b[0m                           \n",
      "\u001b[1mDescription\u001b[0m  28.0% |\u001b[97m█\u001b[0m\u001b[97m█\u001b[0m\u001b[97m█\u001b[0m\u001b[97m█\u001b[0m\u001b[97m█\u001b[0m\u001b[97m█\u001b[0m\u001b[97m█\u001b[0m\u001b[97m█\u001b[0m\u001b[97m█\u001b[0m\u001b[97m█\u001b[0m                             |                    \u001b[K\u001b[F\u001b[K\u001b[F \u001b[1mIters\u001b[0m     \u001b[1mElapsed Time\u001b[0m      \u001b[1mSpeed\u001b[0m    \u001b[1mepoch\u001b[0m    \u001b[1mloss\u001b[0m                             \n",
      " \u001b[99m29/\u001b[93m100\u001b[0m\u001b[0m  \u001b[99m00:01:32<\u001b[93m00:03:45\u001b[0m\u001b[0m  \u001b[99m0.31it/s\u001b[0m  \u001b[99m29/100\u001b[0m  \u001b[99m0.03808\u001b[0m                           \n",
      "\u001b[1mDescription\u001b[0m  29.0% |\u001b[97m█\u001b[0m\u001b[97m█\u001b[0m\u001b[97m█\u001b[0m\u001b[97m█\u001b[0m\u001b[97m█\u001b[0m\u001b[97m█\u001b[0m\u001b[97m█\u001b[0m\u001b[97m█\u001b[0m\u001b[97m█\u001b[0m\u001b[97m█\u001b[0m\u001b[97m█\u001b[0m                            |                    \u001b[K\u001b[F\u001b[K\u001b[F \u001b[1mIters\u001b[0m     \u001b[1mElapsed Time\u001b[0m      \u001b[1mSpeed\u001b[0m    \u001b[1mepoch\u001b[0m    \u001b[1mloss\u001b[0m                             \n",
      " \u001b[99m30/\u001b[93m100\u001b[0m\u001b[0m  \u001b[99m00:01:35<\u001b[93m00:03:42\u001b[0m\u001b[0m  \u001b[99m0.31it/s\u001b[0m  \u001b[99m30/100\u001b[0m  \u001b[99m0.03804\u001b[0m                           \n",
      "\u001b[1mDescription\u001b[0m  30.0% |\u001b[97m█\u001b[0m\u001b[97m█\u001b[0m\u001b[97m█\u001b[0m\u001b[97m█\u001b[0m\u001b[97m█\u001b[0m\u001b[97m█\u001b[0m\u001b[97m█\u001b[0m\u001b[97m█\u001b[0m\u001b[97m█\u001b[0m\u001b[97m█\u001b[0m\u001b[97m█\u001b[0m                            |                    \u001b[K\u001b[F\u001b[K\u001b[F \u001b[1mIters\u001b[0m     \u001b[1mElapsed Time\u001b[0m      \u001b[1mSpeed\u001b[0m    \u001b[1mepoch\u001b[0m    \u001b[1mloss\u001b[0m                             \n",
      " \u001b[99m31/\u001b[93m100\u001b[0m\u001b[0m  \u001b[99m00:01:38<\u001b[93m00:03:39\u001b[0m\u001b[0m  \u001b[99m0.31it/s\u001b[0m  \u001b[99m31/100\u001b[0m  \u001b[99m0.03798\u001b[0m                           \n",
      "\u001b[1mDescription\u001b[0m  31.0% |\u001b[97m█\u001b[0m\u001b[97m█\u001b[0m\u001b[97m█\u001b[0m\u001b[97m█\u001b[0m\u001b[97m█\u001b[0m\u001b[97m█\u001b[0m\u001b[97m█\u001b[0m\u001b[97m█\u001b[0m\u001b[97m█\u001b[0m\u001b[97m█\u001b[0m\u001b[97m█\u001b[0m\u001b[97m█\u001b[0m                           |                    \u001b[K\u001b[F\u001b[K\u001b[F \u001b[1mIters\u001b[0m     \u001b[1mElapsed Time\u001b[0m      \u001b[1mSpeed\u001b[0m    \u001b[1mepoch\u001b[0m    \u001b[1mloss\u001b[0m                             \n",
      " \u001b[99m32/\u001b[93m100\u001b[0m\u001b[0m  \u001b[99m00:01:41<\u001b[93m00:03:35\u001b[0m\u001b[0m  \u001b[99m0.31it/s\u001b[0m  \u001b[99m32/100\u001b[0m  \u001b[99m0.03794\u001b[0m                           \n",
      "\u001b[1mDescription\u001b[0m  32.0% |\u001b[97m█\u001b[0m\u001b[97m█\u001b[0m\u001b[97m█\u001b[0m\u001b[97m█\u001b[0m\u001b[97m█\u001b[0m\u001b[97m█\u001b[0m\u001b[97m█\u001b[0m\u001b[97m█\u001b[0m\u001b[97m█\u001b[0m\u001b[97m█\u001b[0m\u001b[97m█\u001b[0m\u001b[97m█\u001b[0m                           |                    \u001b[K\u001b[F\u001b[K\u001b[F \u001b[1mIters\u001b[0m     \u001b[1mElapsed Time\u001b[0m      \u001b[1mSpeed\u001b[0m    \u001b[1mepoch\u001b[0m    \u001b[1mloss\u001b[0m                             \n",
      " \u001b[99m33/\u001b[93m100\u001b[0m\u001b[0m  \u001b[99m00:01:44<\u001b[93m00:03:32\u001b[0m\u001b[0m  \u001b[99m0.31it/s\u001b[0m  \u001b[99m33/100\u001b[0m  \u001b[99m0.03787\u001b[0m                           \n",
      "\u001b[1mDescription\u001b[0m  33.0% |\u001b[97m█\u001b[0m\u001b[97m█\u001b[0m\u001b[97m█\u001b[0m\u001b[97m█\u001b[0m\u001b[97m█\u001b[0m\u001b[97m█\u001b[0m\u001b[97m█\u001b[0m\u001b[97m█\u001b[0m\u001b[97m█\u001b[0m\u001b[97m█\u001b[0m\u001b[97m█\u001b[0m\u001b[97m█\u001b[0m                           |                    \u001b[K\u001b[F\u001b[K\u001b[F \u001b[1mIters\u001b[0m     \u001b[1mElapsed Time\u001b[0m      \u001b[1mSpeed\u001b[0m    \u001b[1mepoch\u001b[0m    \u001b[1mloss\u001b[0m                             \n",
      " \u001b[99m34/\u001b[93m100\u001b[0m\u001b[0m  \u001b[99m00:01:47<\u001b[93m00:03:29\u001b[0m\u001b[0m  \u001b[99m0.31it/s\u001b[0m  \u001b[99m34/100\u001b[0m  \u001b[99m0.03785\u001b[0m                           \n",
      "\u001b[1mDescription\u001b[0m  34.0% |\u001b[97m█\u001b[0m\u001b[97m█\u001b[0m\u001b[97m█\u001b[0m\u001b[97m█\u001b[0m\u001b[97m█\u001b[0m\u001b[97m█\u001b[0m\u001b[97m█\u001b[0m\u001b[97m█\u001b[0m\u001b[97m█\u001b[0m\u001b[97m█\u001b[0m\u001b[97m█\u001b[0m\u001b[97m█\u001b[0m\u001b[97m█\u001b[0m                          |                    \u001b[K\u001b[F\u001b[K\u001b[F \u001b[1mIters\u001b[0m     \u001b[1mElapsed Time\u001b[0m      \u001b[1mSpeed\u001b[0m    \u001b[1mepoch\u001b[0m    \u001b[1mloss\u001b[0m                             \n",
      " \u001b[99m35/\u001b[93m100\u001b[0m\u001b[0m  \u001b[99m00:01:51<\u001b[93m00:03:26\u001b[0m\u001b[0m  \u001b[99m0.31it/s\u001b[0m  \u001b[99m35/100\u001b[0m  \u001b[99m0.03779\u001b[0m                           \n",
      "\u001b[1mDescription\u001b[0m  35.0% |\u001b[97m█\u001b[0m\u001b[97m█\u001b[0m\u001b[97m█\u001b[0m\u001b[97m█\u001b[0m\u001b[97m█\u001b[0m\u001b[97m█\u001b[0m\u001b[97m█\u001b[0m\u001b[97m█\u001b[0m\u001b[97m█\u001b[0m\u001b[97m█\u001b[0m\u001b[97m█\u001b[0m\u001b[97m█\u001b[0m\u001b[97m█\u001b[0m                          |                    \u001b[K\u001b[F\u001b[K\u001b[F \u001b[1mIters\u001b[0m     \u001b[1mElapsed Time\u001b[0m      \u001b[1mSpeed\u001b[0m    \u001b[1mepoch\u001b[0m    \u001b[1mloss\u001b[0m                             \n",
      " \u001b[99m36/\u001b[93m100\u001b[0m\u001b[0m  \u001b[99m00:01:54<\u001b[93m00:03:23\u001b[0m\u001b[0m  \u001b[99m0.31it/s\u001b[0m  \u001b[99m36/100\u001b[0m  \u001b[99m0.03775\u001b[0m                           \n",
      "\u001b[1mDescription\u001b[0m  36.0% |\u001b[97m█\u001b[0m\u001b[97m█\u001b[0m\u001b[97m█\u001b[0m\u001b[97m█\u001b[0m\u001b[97m█\u001b[0m\u001b[97m█\u001b[0m\u001b[97m█\u001b[0m\u001b[97m█\u001b[0m\u001b[97m█\u001b[0m\u001b[97m█\u001b[0m\u001b[97m█\u001b[0m\u001b[97m█\u001b[0m\u001b[97m█\u001b[0m\u001b[97m█\u001b[0m                         |                    \u001b[K\u001b[F\u001b[K\u001b[F \u001b[1mIters\u001b[0m     \u001b[1mElapsed Time\u001b[0m      \u001b[1mSpeed\u001b[0m    \u001b[1mepoch\u001b[0m    \u001b[1mloss\u001b[0m                             \n",
      " \u001b[99m37/\u001b[93m100\u001b[0m\u001b[0m  \u001b[99m00:01:57<\u001b[93m00:03:20\u001b[0m\u001b[0m  \u001b[99m0.31it/s\u001b[0m  \u001b[99m37/100\u001b[0m  \u001b[99m0.03771\u001b[0m                           \n",
      "\u001b[1mDescription\u001b[0m  37.0% |\u001b[97m█\u001b[0m\u001b[97m█\u001b[0m\u001b[97m█\u001b[0m\u001b[97m█\u001b[0m\u001b[97m█\u001b[0m\u001b[97m█\u001b[0m\u001b[97m█\u001b[0m\u001b[97m█\u001b[0m\u001b[97m█\u001b[0m\u001b[97m█\u001b[0m\u001b[97m█\u001b[0m\u001b[97m█\u001b[0m\u001b[97m█\u001b[0m\u001b[97m█\u001b[0m                         |                    \u001b[K\u001b[F\u001b[K\u001b[F \u001b[1mIters\u001b[0m     \u001b[1mElapsed Time\u001b[0m      \u001b[1mSpeed\u001b[0m    \u001b[1mepoch\u001b[0m    \u001b[1mloss\u001b[0m                             \n",
      " \u001b[99m38/\u001b[93m100\u001b[0m\u001b[0m  \u001b[99m00:02:00<\u001b[93m00:03:16\u001b[0m\u001b[0m  \u001b[99m0.32it/s\u001b[0m  \u001b[99m38/100\u001b[0m  \u001b[99m0.03767\u001b[0m                           \n"
     ]
    },
    {
     "name": "stderr",
     "output_type": "stream",
     "text": [
      "\u001b[1mDescription\u001b[0m  38.0% |\u001b[97m█\u001b[0m\u001b[97m█\u001b[0m\u001b[97m█\u001b[0m\u001b[97m█\u001b[0m\u001b[97m█\u001b[0m\u001b[97m█\u001b[0m\u001b[97m█\u001b[0m\u001b[97m█\u001b[0m\u001b[97m█\u001b[0m\u001b[97m█\u001b[0m\u001b[97m█\u001b[0m\u001b[97m█\u001b[0m\u001b[97m█\u001b[0m\u001b[97m█\u001b[0m                         |                    \u001b[K\u001b[F\u001b[K\u001b[F \u001b[1mIters\u001b[0m     \u001b[1mElapsed Time\u001b[0m      \u001b[1mSpeed\u001b[0m    \u001b[1mepoch\u001b[0m    \u001b[1mloss\u001b[0m                             \n",
      " \u001b[99m39/\u001b[93m100\u001b[0m\u001b[0m  \u001b[99m00:02:03<\u001b[93m00:03:13\u001b[0m\u001b[0m  \u001b[99m0.32it/s\u001b[0m  \u001b[99m39/100\u001b[0m  \u001b[99m0.03764\u001b[0m                           \n",
      "\u001b[1mDescription\u001b[0m  39.0% |\u001b[97m█\u001b[0m\u001b[97m█\u001b[0m\u001b[97m█\u001b[0m\u001b[97m█\u001b[0m\u001b[97m█\u001b[0m\u001b[97m█\u001b[0m\u001b[97m█\u001b[0m\u001b[97m█\u001b[0m\u001b[97m█\u001b[0m\u001b[97m█\u001b[0m\u001b[97m█\u001b[0m\u001b[97m█\u001b[0m\u001b[97m█\u001b[0m\u001b[97m█\u001b[0m\u001b[97m█\u001b[0m                        |                    \u001b[K\u001b[F\u001b[K\u001b[F \u001b[1mIters\u001b[0m     \u001b[1mElapsed Time\u001b[0m      \u001b[1mSpeed\u001b[0m    \u001b[1mepoch\u001b[0m    \u001b[1mloss\u001b[0m                             \n",
      " \u001b[99m40/\u001b[93m100\u001b[0m\u001b[0m  \u001b[99m00:02:06<\u001b[93m00:03:10\u001b[0m\u001b[0m  \u001b[99m0.32it/s\u001b[0m  \u001b[99m40/100\u001b[0m  \u001b[99m0.03760\u001b[0m                           \n",
      "\u001b[1mDescription\u001b[0m  40.0% |\u001b[97m█\u001b[0m\u001b[97m█\u001b[0m\u001b[97m█\u001b[0m\u001b[97m█\u001b[0m\u001b[97m█\u001b[0m\u001b[97m█\u001b[0m\u001b[97m█\u001b[0m\u001b[97m█\u001b[0m\u001b[97m█\u001b[0m\u001b[97m█\u001b[0m\u001b[97m█\u001b[0m\u001b[97m█\u001b[0m\u001b[97m█\u001b[0m\u001b[97m█\u001b[0m\u001b[97m█\u001b[0m                        |                    \u001b[K\u001b[F\u001b[K\u001b[F \u001b[1mIters\u001b[0m     \u001b[1mElapsed Time\u001b[0m      \u001b[1mSpeed\u001b[0m    \u001b[1mepoch\u001b[0m    \u001b[1mloss\u001b[0m                             \n",
      " \u001b[99m41/\u001b[93m100\u001b[0m\u001b[0m  \u001b[99m00:02:10<\u001b[93m00:03:07\u001b[0m\u001b[0m  \u001b[99m0.32it/s\u001b[0m  \u001b[99m41/100\u001b[0m  \u001b[99m0.03760\u001b[0m                           \n",
      "\u001b[1mDescription\u001b[0m  41.0% |\u001b[97m█\u001b[0m\u001b[97m█\u001b[0m\u001b[97m█\u001b[0m\u001b[97m█\u001b[0m\u001b[97m█\u001b[0m\u001b[97m█\u001b[0m\u001b[97m█\u001b[0m\u001b[97m█\u001b[0m\u001b[97m█\u001b[0m\u001b[97m█\u001b[0m\u001b[97m█\u001b[0m\u001b[97m█\u001b[0m\u001b[97m█\u001b[0m\u001b[97m█\u001b[0m\u001b[97m█\u001b[0m                        |                    \u001b[K\u001b[F\u001b[K\u001b[F \u001b[1mIters\u001b[0m     \u001b[1mElapsed Time\u001b[0m      \u001b[1mSpeed\u001b[0m    \u001b[1mepoch\u001b[0m    \u001b[1mloss\u001b[0m                             \n",
      " \u001b[99m42/\u001b[93m100\u001b[0m\u001b[0m  \u001b[99m00:02:13<\u001b[93m00:03:03\u001b[0m\u001b[0m  \u001b[99m0.32it/s\u001b[0m  \u001b[99m42/100\u001b[0m  \u001b[99m0.03750\u001b[0m                           \n",
      "\u001b[1mDescription\u001b[0m  42.0% |\u001b[97m█\u001b[0m\u001b[97m█\u001b[0m\u001b[97m█\u001b[0m\u001b[97m█\u001b[0m\u001b[97m█\u001b[0m\u001b[97m█\u001b[0m\u001b[97m█\u001b[0m\u001b[97m█\u001b[0m\u001b[97m█\u001b[0m\u001b[97m█\u001b[0m\u001b[97m█\u001b[0m\u001b[97m█\u001b[0m\u001b[97m█\u001b[0m\u001b[97m█\u001b[0m\u001b[97m█\u001b[0m\u001b[97m█\u001b[0m                       |                    \u001b[K\u001b[F\u001b[K\u001b[F \u001b[1mIters\u001b[0m     \u001b[1mElapsed Time\u001b[0m      \u001b[1mSpeed\u001b[0m    \u001b[1mepoch\u001b[0m    \u001b[1mloss\u001b[0m                             \n",
      " \u001b[99m43/\u001b[93m100\u001b[0m\u001b[0m  \u001b[99m00:02:16<\u001b[93m00:03:00\u001b[0m\u001b[0m  \u001b[99m0.32it/s\u001b[0m  \u001b[99m43/100\u001b[0m  \u001b[99m0.03752\u001b[0m                           \n",
      "\u001b[1mDescription\u001b[0m  43.0% |\u001b[97m█\u001b[0m\u001b[97m█\u001b[0m\u001b[97m█\u001b[0m\u001b[97m█\u001b[0m\u001b[97m█\u001b[0m\u001b[97m█\u001b[0m\u001b[97m█\u001b[0m\u001b[97m█\u001b[0m\u001b[97m█\u001b[0m\u001b[97m█\u001b[0m\u001b[97m█\u001b[0m\u001b[97m█\u001b[0m\u001b[97m█\u001b[0m\u001b[97m█\u001b[0m\u001b[97m█\u001b[0m\u001b[97m█\u001b[0m                       |                    \u001b[K\u001b[F\u001b[K\u001b[F \u001b[1mIters\u001b[0m     \u001b[1mElapsed Time\u001b[0m      \u001b[1mSpeed\u001b[0m    \u001b[1mepoch\u001b[0m    \u001b[1mloss\u001b[0m                             \n",
      " \u001b[99m44/\u001b[93m100\u001b[0m\u001b[0m  \u001b[99m00:02:19<\u001b[93m00:02:57\u001b[0m\u001b[0m  \u001b[99m0.32it/s\u001b[0m  \u001b[99m44/100\u001b[0m  \u001b[99m0.03748\u001b[0m                           \n",
      "\u001b[1mDescription\u001b[0m  44.0% |\u001b[97m█\u001b[0m\u001b[97m█\u001b[0m\u001b[97m█\u001b[0m\u001b[97m█\u001b[0m\u001b[97m█\u001b[0m\u001b[97m█\u001b[0m\u001b[97m█\u001b[0m\u001b[97m█\u001b[0m\u001b[97m█\u001b[0m\u001b[97m█\u001b[0m\u001b[97m█\u001b[0m\u001b[97m█\u001b[0m\u001b[97m█\u001b[0m\u001b[97m█\u001b[0m\u001b[97m█\u001b[0m\u001b[97m█\u001b[0m\u001b[97m█\u001b[0m                      |                    \u001b[K\u001b[F\u001b[K\u001b[F \u001b[1mIters\u001b[0m     \u001b[1mElapsed Time\u001b[0m      \u001b[1mSpeed\u001b[0m    \u001b[1mepoch\u001b[0m    \u001b[1mloss\u001b[0m                             \n",
      " \u001b[99m45/\u001b[93m100\u001b[0m\u001b[0m  \u001b[99m00:02:22<\u001b[93m00:02:54\u001b[0m\u001b[0m  \u001b[99m0.32it/s\u001b[0m  \u001b[99m45/100\u001b[0m  \u001b[99m0.03741\u001b[0m                           \n",
      "\u001b[1mDescription\u001b[0m  45.0% |\u001b[97m█\u001b[0m\u001b[97m█\u001b[0m\u001b[97m█\u001b[0m\u001b[97m█\u001b[0m\u001b[97m█\u001b[0m\u001b[97m█\u001b[0m\u001b[97m█\u001b[0m\u001b[97m█\u001b[0m\u001b[97m█\u001b[0m\u001b[97m█\u001b[0m\u001b[97m█\u001b[0m\u001b[97m█\u001b[0m\u001b[97m█\u001b[0m\u001b[97m█\u001b[0m\u001b[97m█\u001b[0m\u001b[97m█\u001b[0m\u001b[97m█\u001b[0m                      |                    \u001b[K\u001b[F\u001b[K\u001b[F \u001b[1mIters\u001b[0m     \u001b[1mElapsed Time\u001b[0m      \u001b[1mSpeed\u001b[0m    \u001b[1mepoch\u001b[0m    \u001b[1mloss\u001b[0m                             \n",
      " \u001b[99m46/\u001b[93m100\u001b[0m\u001b[0m  \u001b[99m00:02:25<\u001b[93m00:02:51\u001b[0m\u001b[0m  \u001b[99m0.32it/s\u001b[0m  \u001b[99m46/100\u001b[0m  \u001b[99m0.03743\u001b[0m                           \n",
      "\u001b[1mDescription\u001b[0m  46.0% |\u001b[97m█\u001b[0m\u001b[97m█\u001b[0m\u001b[97m█\u001b[0m\u001b[97m█\u001b[0m\u001b[97m█\u001b[0m\u001b[97m█\u001b[0m\u001b[97m█\u001b[0m\u001b[97m█\u001b[0m\u001b[97m█\u001b[0m\u001b[97m█\u001b[0m\u001b[97m█\u001b[0m\u001b[97m█\u001b[0m\u001b[97m█\u001b[0m\u001b[97m█\u001b[0m\u001b[97m█\u001b[0m\u001b[97m█\u001b[0m\u001b[97m█\u001b[0m                      |                    \u001b[K\u001b[F\u001b[K\u001b[F \u001b[1mIters\u001b[0m     \u001b[1mElapsed Time\u001b[0m      \u001b[1mSpeed\u001b[0m    \u001b[1mepoch\u001b[0m    \u001b[1mloss\u001b[0m                             \n",
      " \u001b[99m47/\u001b[93m100\u001b[0m\u001b[0m  \u001b[99m00:02:29<\u001b[93m00:02:48\u001b[0m\u001b[0m  \u001b[99m0.32it/s\u001b[0m  \u001b[99m47/100\u001b[0m  \u001b[99m0.03739\u001b[0m                           \n",
      "\u001b[1mDescription\u001b[0m  47.0% |\u001b[97m█\u001b[0m\u001b[97m█\u001b[0m\u001b[97m█\u001b[0m\u001b[97m█\u001b[0m\u001b[97m█\u001b[0m\u001b[97m█\u001b[0m\u001b[97m█\u001b[0m\u001b[97m█\u001b[0m\u001b[97m█\u001b[0m\u001b[97m█\u001b[0m\u001b[97m█\u001b[0m\u001b[97m█\u001b[0m\u001b[97m█\u001b[0m\u001b[97m█\u001b[0m\u001b[97m█\u001b[0m\u001b[97m█\u001b[0m\u001b[97m█\u001b[0m\u001b[97m█\u001b[0m                     |                    \u001b[K\u001b[F\u001b[K\u001b[F \u001b[1mIters\u001b[0m     \u001b[1mElapsed Time\u001b[0m      \u001b[1mSpeed\u001b[0m    \u001b[1mepoch\u001b[0m    \u001b[1mloss\u001b[0m                             \n",
      " \u001b[99m48/\u001b[93m100\u001b[0m\u001b[0m  \u001b[99m00:02:32<\u001b[93m00:02:44\u001b[0m\u001b[0m  \u001b[99m0.32it/s\u001b[0m  \u001b[99m48/100\u001b[0m  \u001b[99m0.03737\u001b[0m                           \n",
      "\u001b[1mDescription\u001b[0m  48.0% |\u001b[97m█\u001b[0m\u001b[97m█\u001b[0m\u001b[97m█\u001b[0m\u001b[97m█\u001b[0m\u001b[97m█\u001b[0m\u001b[97m█\u001b[0m\u001b[97m█\u001b[0m\u001b[97m█\u001b[0m\u001b[97m█\u001b[0m\u001b[97m█\u001b[0m\u001b[97m█\u001b[0m\u001b[97m█\u001b[0m\u001b[97m█\u001b[0m\u001b[97m█\u001b[0m\u001b[97m█\u001b[0m\u001b[97m█\u001b[0m\u001b[97m█\u001b[0m\u001b[97m█\u001b[0m                     |                    \u001b[K\u001b[F\u001b[K\u001b[F \u001b[1mIters\u001b[0m     \u001b[1mElapsed Time\u001b[0m      \u001b[1mSpeed\u001b[0m    \u001b[1mepoch\u001b[0m    \u001b[1mloss\u001b[0m                             \n",
      " \u001b[99m49/\u001b[93m100\u001b[0m\u001b[0m  \u001b[99m00:02:35<\u001b[93m00:02:41\u001b[0m\u001b[0m  \u001b[99m0.32it/s\u001b[0m  \u001b[99m49/100\u001b[0m  \u001b[99m0.03735\u001b[0m                           \n",
      "\u001b[1mDescription\u001b[0m  49.0% |\u001b[97m█\u001b[0m\u001b[97m█\u001b[0m\u001b[97m█\u001b[0m\u001b[97m█\u001b[0m\u001b[97m█\u001b[0m\u001b[97m█\u001b[0m\u001b[97m█\u001b[0m\u001b[97m█\u001b[0m\u001b[97m█\u001b[0m\u001b[97m█\u001b[0m\u001b[97m█\u001b[0m\u001b[97m█\u001b[0m\u001b[97m█\u001b[0m\u001b[97m█\u001b[0m\u001b[97m█\u001b[0m\u001b[97m█\u001b[0m\u001b[97m█\u001b[0m\u001b[97m█\u001b[0m\u001b[97m█\u001b[0m                    |                    \u001b[K\u001b[F\u001b[K\u001b[F \u001b[1mIters\u001b[0m     \u001b[1mElapsed Time\u001b[0m      \u001b[1mSpeed\u001b[0m    \u001b[1mepoch\u001b[0m    \u001b[1mloss\u001b[0m                             \n",
      " \u001b[99m50/\u001b[93m100\u001b[0m\u001b[0m  \u001b[99m00:02:38<\u001b[93m00:02:38\u001b[0m\u001b[0m  \u001b[99m0.32it/s\u001b[0m  \u001b[99m50/100\u001b[0m  \u001b[99m0.03729\u001b[0m                           \n",
      "\u001b[1mDescription\u001b[0m  50.0% |\u001b[97m█\u001b[0m\u001b[97m█\u001b[0m\u001b[97m█\u001b[0m\u001b[97m█\u001b[0m\u001b[97m█\u001b[0m\u001b[97m█\u001b[0m\u001b[97m█\u001b[0m\u001b[97m█\u001b[0m\u001b[97m█\u001b[0m\u001b[97m█\u001b[0m\u001b[97m█\u001b[0m\u001b[97m█\u001b[0m\u001b[97m█\u001b[0m\u001b[97m█\u001b[0m\u001b[97m█\u001b[0m\u001b[97m█\u001b[0m\u001b[97m█\u001b[0m\u001b[97m█\u001b[0m\u001b[97m█\u001b[0m                    |                    \u001b[K\u001b[F\u001b[K\u001b[F \u001b[1mIters\u001b[0m     \u001b[1mElapsed Time\u001b[0m      \u001b[1mSpeed\u001b[0m    \u001b[1mepoch\u001b[0m    \u001b[1mloss\u001b[0m                             \n",
      " \u001b[99m51/\u001b[93m100\u001b[0m\u001b[0m  \u001b[99m00:02:41<\u001b[93m00:02:35\u001b[0m\u001b[0m  \u001b[99m0.32it/s\u001b[0m  \u001b[99m51/100\u001b[0m  \u001b[99m0.03727\u001b[0m                           \n",
      "\u001b[1mDescription\u001b[0m  51.0% |\u001b[97m█\u001b[0m\u001b[97m█\u001b[0m\u001b[97m█\u001b[0m\u001b[97m█\u001b[0m\u001b[97m█\u001b[0m\u001b[97m█\u001b[0m\u001b[97m█\u001b[0m\u001b[97m█\u001b[0m\u001b[97m█\u001b[0m\u001b[97m█\u001b[0m\u001b[97m█\u001b[0m\u001b[97m█\u001b[0m\u001b[97m█\u001b[0m\u001b[97m█\u001b[0m\u001b[97m█\u001b[0m\u001b[97m█\u001b[0m\u001b[97m█\u001b[0m\u001b[97m█\u001b[0m\u001b[97m█\u001b[0m                    |                    \u001b[K\u001b[F\u001b[K\u001b[F \u001b[1mIters\u001b[0m     \u001b[1mElapsed Time\u001b[0m      \u001b[1mSpeed\u001b[0m    \u001b[1mepoch\u001b[0m    \u001b[1mloss\u001b[0m                             \n",
      " \u001b[99m52/\u001b[93m100\u001b[0m\u001b[0m  \u001b[99m00:02:44<\u001b[93m00:02:32\u001b[0m\u001b[0m  \u001b[99m0.32it/s\u001b[0m  \u001b[99m52/100\u001b[0m  \u001b[99m0.03728\u001b[0m                           \n",
      "\u001b[1mDescription\u001b[0m  52.0% |\u001b[97m█\u001b[0m\u001b[97m█\u001b[0m\u001b[97m█\u001b[0m\u001b[97m█\u001b[0m\u001b[97m█\u001b[0m\u001b[97m█\u001b[0m\u001b[97m█\u001b[0m\u001b[97m█\u001b[0m\u001b[97m█\u001b[0m\u001b[97m█\u001b[0m\u001b[97m█\u001b[0m\u001b[97m█\u001b[0m\u001b[97m█\u001b[0m\u001b[97m█\u001b[0m\u001b[97m█\u001b[0m\u001b[97m█\u001b[0m\u001b[97m█\u001b[0m\u001b[97m█\u001b[0m\u001b[97m█\u001b[0m\u001b[97m█\u001b[0m                   |                    \u001b[K\u001b[F\u001b[K\u001b[F \u001b[1mIters\u001b[0m     \u001b[1mElapsed Time\u001b[0m      \u001b[1mSpeed\u001b[0m    \u001b[1mepoch\u001b[0m    \u001b[1mloss\u001b[0m                             \n",
      " \u001b[99m53/\u001b[93m100\u001b[0m\u001b[0m  \u001b[99m00:02:47<\u001b[93m00:02:28\u001b[0m\u001b[0m  \u001b[99m0.32it/s\u001b[0m  \u001b[99m53/100\u001b[0m  \u001b[99m0.03723\u001b[0m                           \n",
      "\u001b[1mDescription\u001b[0m  53.0% |\u001b[97m█\u001b[0m\u001b[97m█\u001b[0m\u001b[97m█\u001b[0m\u001b[97m█\u001b[0m\u001b[97m█\u001b[0m\u001b[97m█\u001b[0m\u001b[97m█\u001b[0m\u001b[97m█\u001b[0m\u001b[97m█\u001b[0m\u001b[97m█\u001b[0m\u001b[97m█\u001b[0m\u001b[97m█\u001b[0m\u001b[97m█\u001b[0m\u001b[97m█\u001b[0m\u001b[97m█\u001b[0m\u001b[97m█\u001b[0m\u001b[97m█\u001b[0m\u001b[97m█\u001b[0m\u001b[97m█\u001b[0m\u001b[97m█\u001b[0m                   |                    \u001b[K\u001b[F\u001b[K\u001b[F \u001b[1mIters\u001b[0m     \u001b[1mElapsed Time\u001b[0m      \u001b[1mSpeed\u001b[0m    \u001b[1mepoch\u001b[0m    \u001b[1mloss\u001b[0m                             \n",
      " \u001b[99m54/\u001b[93m100\u001b[0m\u001b[0m  \u001b[99m00:02:51<\u001b[93m00:02:25\u001b[0m\u001b[0m  \u001b[99m0.32it/s\u001b[0m  \u001b[99m54/100\u001b[0m  \u001b[99m0.03720\u001b[0m                           \n"
     ]
    },
    {
     "name": "stderr",
     "output_type": "stream",
     "text": [
      "\u001b[1mDescription\u001b[0m  54.0% |\u001b[97m█\u001b[0m\u001b[97m█\u001b[0m\u001b[97m█\u001b[0m\u001b[97m█\u001b[0m\u001b[97m█\u001b[0m\u001b[97m█\u001b[0m\u001b[97m█\u001b[0m\u001b[97m█\u001b[0m\u001b[97m█\u001b[0m\u001b[97m█\u001b[0m\u001b[97m█\u001b[0m\u001b[97m█\u001b[0m\u001b[97m█\u001b[0m\u001b[97m█\u001b[0m\u001b[97m█\u001b[0m\u001b[97m█\u001b[0m\u001b[97m█\u001b[0m\u001b[97m█\u001b[0m\u001b[97m█\u001b[0m\u001b[97m█\u001b[0m\u001b[97m█\u001b[0m                  |                    \u001b[K\u001b[F\u001b[K\u001b[F \u001b[1mIters\u001b[0m     \u001b[1mElapsed Time\u001b[0m      \u001b[1mSpeed\u001b[0m    \u001b[1mepoch\u001b[0m    \u001b[1mloss\u001b[0m                             \n",
      " \u001b[99m55/\u001b[93m100\u001b[0m\u001b[0m  \u001b[99m00:02:54<\u001b[93m00:02:22\u001b[0m\u001b[0m  \u001b[99m0.32it/s\u001b[0m  \u001b[99m55/100\u001b[0m  \u001b[99m0.03717\u001b[0m                           \n",
      "\u001b[1mDescription\u001b[0m  55.0% |\u001b[97m█\u001b[0m\u001b[97m█\u001b[0m\u001b[97m█\u001b[0m\u001b[97m█\u001b[0m\u001b[97m█\u001b[0m\u001b[97m█\u001b[0m\u001b[97m█\u001b[0m\u001b[97m█\u001b[0m\u001b[97m█\u001b[0m\u001b[97m█\u001b[0m\u001b[97m█\u001b[0m\u001b[97m█\u001b[0m\u001b[97m█\u001b[0m\u001b[97m█\u001b[0m\u001b[97m█\u001b[0m\u001b[97m█\u001b[0m\u001b[97m█\u001b[0m\u001b[97m█\u001b[0m\u001b[97m█\u001b[0m\u001b[97m█\u001b[0m\u001b[97m█\u001b[0m                  |                    \u001b[K\u001b[F\u001b[K\u001b[F \u001b[1mIters\u001b[0m     \u001b[1mElapsed Time\u001b[0m      \u001b[1mSpeed\u001b[0m    \u001b[1mepoch\u001b[0m    \u001b[1mloss\u001b[0m                             \n",
      " \u001b[99m56/\u001b[93m100\u001b[0m\u001b[0m  \u001b[99m00:02:57<\u001b[93m00:02:19\u001b[0m\u001b[0m  \u001b[99m0.32it/s\u001b[0m  \u001b[99m56/100\u001b[0m  \u001b[99m0.03717\u001b[0m                           \n",
      "\u001b[1mDescription\u001b[0m  56.0% |\u001b[97m█\u001b[0m\u001b[97m█\u001b[0m\u001b[97m█\u001b[0m\u001b[97m█\u001b[0m\u001b[97m█\u001b[0m\u001b[97m█\u001b[0m\u001b[97m█\u001b[0m\u001b[97m█\u001b[0m\u001b[97m█\u001b[0m\u001b[97m█\u001b[0m\u001b[97m█\u001b[0m\u001b[97m█\u001b[0m\u001b[97m█\u001b[0m\u001b[97m█\u001b[0m\u001b[97m█\u001b[0m\u001b[97m█\u001b[0m\u001b[97m█\u001b[0m\u001b[97m█\u001b[0m\u001b[97m█\u001b[0m\u001b[97m█\u001b[0m\u001b[97m█\u001b[0m                  |                    \u001b[K\u001b[F\u001b[K\u001b[F \u001b[1mIters\u001b[0m     \u001b[1mElapsed Time\u001b[0m      \u001b[1mSpeed\u001b[0m    \u001b[1mepoch\u001b[0m    \u001b[1mloss\u001b[0m                             \n",
      " \u001b[99m57/\u001b[93m100\u001b[0m\u001b[0m  \u001b[99m00:03:00<\u001b[93m00:02:16\u001b[0m\u001b[0m  \u001b[99m0.32it/s\u001b[0m  \u001b[99m57/100\u001b[0m  \u001b[99m0.03711\u001b[0m                           \n",
      "\u001b[1mDescription\u001b[0m  57.0% |\u001b[97m█\u001b[0m\u001b[97m█\u001b[0m\u001b[97m█\u001b[0m\u001b[97m█\u001b[0m\u001b[97m█\u001b[0m\u001b[97m█\u001b[0m\u001b[97m█\u001b[0m\u001b[97m█\u001b[0m\u001b[97m█\u001b[0m\u001b[97m█\u001b[0m\u001b[97m█\u001b[0m\u001b[97m█\u001b[0m\u001b[97m█\u001b[0m\u001b[97m█\u001b[0m\u001b[97m█\u001b[0m\u001b[97m█\u001b[0m\u001b[97m█\u001b[0m\u001b[97m█\u001b[0m\u001b[97m█\u001b[0m\u001b[97m█\u001b[0m\u001b[97m█\u001b[0m\u001b[97m█\u001b[0m                 |                    \u001b[K\u001b[F\u001b[K\u001b[F \u001b[1mIters\u001b[0m     \u001b[1mElapsed Time\u001b[0m      \u001b[1mSpeed\u001b[0m    \u001b[1mepoch\u001b[0m    \u001b[1mloss\u001b[0m                             \n",
      " \u001b[99m58/\u001b[93m100\u001b[0m\u001b[0m  \u001b[99m00:03:03<\u001b[93m00:02:13\u001b[0m\u001b[0m  \u001b[99m0.32it/s\u001b[0m  \u001b[99m58/100\u001b[0m  \u001b[99m0.03707\u001b[0m                           \n",
      "\u001b[1mDescription\u001b[0m  58.0% |\u001b[97m█\u001b[0m\u001b[97m█\u001b[0m\u001b[97m█\u001b[0m\u001b[97m█\u001b[0m\u001b[97m█\u001b[0m\u001b[97m█\u001b[0m\u001b[97m█\u001b[0m\u001b[97m█\u001b[0m\u001b[97m█\u001b[0m\u001b[97m█\u001b[0m\u001b[97m█\u001b[0m\u001b[97m█\u001b[0m\u001b[97m█\u001b[0m\u001b[97m█\u001b[0m\u001b[97m█\u001b[0m\u001b[97m█\u001b[0m\u001b[97m█\u001b[0m\u001b[97m█\u001b[0m\u001b[97m█\u001b[0m\u001b[97m█\u001b[0m\u001b[97m█\u001b[0m\u001b[97m█\u001b[0m                 |                    \u001b[K\u001b[F\u001b[K\u001b[F \u001b[1mIters\u001b[0m     \u001b[1mElapsed Time\u001b[0m      \u001b[1mSpeed\u001b[0m    \u001b[1mepoch\u001b[0m    \u001b[1mloss\u001b[0m                             \n",
      " \u001b[99m59/\u001b[93m100\u001b[0m\u001b[0m  \u001b[99m00:03:06<\u001b[93m00:02:09\u001b[0m\u001b[0m  \u001b[99m0.32it/s\u001b[0m  \u001b[99m59/100\u001b[0m  \u001b[99m0.03707\u001b[0m                           \n",
      "\u001b[1mDescription\u001b[0m  59.0% |\u001b[97m█\u001b[0m\u001b[97m█\u001b[0m\u001b[97m█\u001b[0m\u001b[97m█\u001b[0m\u001b[97m█\u001b[0m\u001b[97m█\u001b[0m\u001b[97m█\u001b[0m\u001b[97m█\u001b[0m\u001b[97m█\u001b[0m\u001b[97m█\u001b[0m\u001b[97m█\u001b[0m\u001b[97m█\u001b[0m\u001b[97m█\u001b[0m\u001b[97m█\u001b[0m\u001b[97m█\u001b[0m\u001b[97m█\u001b[0m\u001b[97m█\u001b[0m\u001b[97m█\u001b[0m\u001b[97m█\u001b[0m\u001b[97m█\u001b[0m\u001b[97m█\u001b[0m\u001b[97m█\u001b[0m\u001b[97m█\u001b[0m                |                    \u001b[K\u001b[F\u001b[K\u001b[F \u001b[1mIters\u001b[0m     \u001b[1mElapsed Time\u001b[0m      \u001b[1mSpeed\u001b[0m    \u001b[1mepoch\u001b[0m    \u001b[1mloss\u001b[0m                             \n",
      " \u001b[99m60/\u001b[93m100\u001b[0m\u001b[0m  \u001b[99m00:03:10<\u001b[93m00:02:06\u001b[0m\u001b[0m  \u001b[99m0.32it/s\u001b[0m  \u001b[99m60/100\u001b[0m  \u001b[99m0.03705\u001b[0m                           \n",
      "\u001b[1mDescription\u001b[0m  60.0% |\u001b[97m█\u001b[0m\u001b[97m█\u001b[0m\u001b[97m█\u001b[0m\u001b[97m█\u001b[0m\u001b[97m█\u001b[0m\u001b[97m█\u001b[0m\u001b[97m█\u001b[0m\u001b[97m█\u001b[0m\u001b[97m█\u001b[0m\u001b[97m█\u001b[0m\u001b[97m█\u001b[0m\u001b[97m█\u001b[0m\u001b[97m█\u001b[0m\u001b[97m█\u001b[0m\u001b[97m█\u001b[0m\u001b[97m█\u001b[0m\u001b[97m█\u001b[0m\u001b[97m█\u001b[0m\u001b[97m█\u001b[0m\u001b[97m█\u001b[0m\u001b[97m█\u001b[0m\u001b[97m█\u001b[0m\u001b[97m█\u001b[0m                |                    \u001b[K\u001b[F\u001b[K\u001b[F \u001b[1mIters\u001b[0m     \u001b[1mElapsed Time\u001b[0m      \u001b[1mSpeed\u001b[0m    \u001b[1mepoch\u001b[0m    \u001b[1mloss\u001b[0m                             \n",
      " \u001b[99m61/\u001b[93m100\u001b[0m\u001b[0m  \u001b[99m00:03:13<\u001b[93m00:02:03\u001b[0m\u001b[0m  \u001b[99m0.32it/s\u001b[0m  \u001b[99m61/100\u001b[0m  \u001b[99m0.03702\u001b[0m                           \n",
      "\u001b[1mDescription\u001b[0m  61.0% |\u001b[97m█\u001b[0m\u001b[97m█\u001b[0m\u001b[97m█\u001b[0m\u001b[97m█\u001b[0m\u001b[97m█\u001b[0m\u001b[97m█\u001b[0m\u001b[97m█\u001b[0m\u001b[97m█\u001b[0m\u001b[97m█\u001b[0m\u001b[97m█\u001b[0m\u001b[97m█\u001b[0m\u001b[97m█\u001b[0m\u001b[97m█\u001b[0m\u001b[97m█\u001b[0m\u001b[97m█\u001b[0m\u001b[97m█\u001b[0m\u001b[97m█\u001b[0m\u001b[97m█\u001b[0m\u001b[97m█\u001b[0m\u001b[97m█\u001b[0m\u001b[97m█\u001b[0m\u001b[97m█\u001b[0m\u001b[97m█\u001b[0m                |                    \u001b[K\u001b[F\u001b[K\u001b[F \u001b[1mIters\u001b[0m     \u001b[1mElapsed Time\u001b[0m      \u001b[1mSpeed\u001b[0m    \u001b[1mepoch\u001b[0m    \u001b[1mloss\u001b[0m                             \n",
      " \u001b[99m62/\u001b[93m100\u001b[0m\u001b[0m  \u001b[99m00:03:16<\u001b[93m00:02:00\u001b[0m\u001b[0m  \u001b[99m0.32it/s\u001b[0m  \u001b[99m62/100\u001b[0m  \u001b[99m0.03699\u001b[0m                           \n",
      "\u001b[1mDescription\u001b[0m  62.0% |\u001b[97m█\u001b[0m\u001b[97m█\u001b[0m\u001b[97m█\u001b[0m\u001b[97m█\u001b[0m\u001b[97m█\u001b[0m\u001b[97m█\u001b[0m\u001b[97m█\u001b[0m\u001b[97m█\u001b[0m\u001b[97m█\u001b[0m\u001b[97m█\u001b[0m\u001b[97m█\u001b[0m\u001b[97m█\u001b[0m\u001b[97m█\u001b[0m\u001b[97m█\u001b[0m\u001b[97m█\u001b[0m\u001b[97m█\u001b[0m\u001b[97m█\u001b[0m\u001b[97m█\u001b[0m\u001b[97m█\u001b[0m\u001b[97m█\u001b[0m\u001b[97m█\u001b[0m\u001b[97m█\u001b[0m\u001b[97m█\u001b[0m\u001b[97m█\u001b[0m               |                    \u001b[K\u001b[F\u001b[K\u001b[F \u001b[1mIters\u001b[0m     \u001b[1mElapsed Time\u001b[0m      \u001b[1mSpeed\u001b[0m    \u001b[1mepoch\u001b[0m    \u001b[1mloss\u001b[0m                             \n",
      " \u001b[99m63/\u001b[93m100\u001b[0m\u001b[0m  \u001b[99m00:03:19<\u001b[93m00:01:57\u001b[0m\u001b[0m  \u001b[99m0.32it/s\u001b[0m  \u001b[99m63/100\u001b[0m  \u001b[99m0.03700\u001b[0m                           \n",
      "\u001b[1mDescription\u001b[0m  63.0% |\u001b[97m█\u001b[0m\u001b[97m█\u001b[0m\u001b[97m█\u001b[0m\u001b[97m█\u001b[0m\u001b[97m█\u001b[0m\u001b[97m█\u001b[0m\u001b[97m█\u001b[0m\u001b[97m█\u001b[0m\u001b[97m█\u001b[0m\u001b[97m█\u001b[0m\u001b[97m█\u001b[0m\u001b[97m█\u001b[0m\u001b[97m█\u001b[0m\u001b[97m█\u001b[0m\u001b[97m█\u001b[0m\u001b[97m█\u001b[0m\u001b[97m█\u001b[0m\u001b[97m█\u001b[0m\u001b[97m█\u001b[0m\u001b[97m█\u001b[0m\u001b[97m█\u001b[0m\u001b[97m█\u001b[0m\u001b[97m█\u001b[0m\u001b[97m█\u001b[0m               |                    \u001b[K\u001b[F\u001b[K\u001b[F \u001b[1mIters\u001b[0m     \u001b[1mElapsed Time\u001b[0m      \u001b[1mSpeed\u001b[0m    \u001b[1mepoch\u001b[0m    \u001b[1mloss\u001b[0m                             \n",
      " \u001b[99m64/\u001b[93m100\u001b[0m\u001b[0m  \u001b[99m00:03:22<\u001b[93m00:01:53\u001b[0m\u001b[0m  \u001b[99m0.32it/s\u001b[0m  \u001b[99m64/100\u001b[0m  \u001b[99m0.03693\u001b[0m                           \n",
      "\u001b[1mDescription\u001b[0m  64.0% |\u001b[97m█\u001b[0m\u001b[97m█\u001b[0m\u001b[97m█\u001b[0m\u001b[97m█\u001b[0m\u001b[97m█\u001b[0m\u001b[97m█\u001b[0m\u001b[97m█\u001b[0m\u001b[97m█\u001b[0m\u001b[97m█\u001b[0m\u001b[97m█\u001b[0m\u001b[97m█\u001b[0m\u001b[97m█\u001b[0m\u001b[97m█\u001b[0m\u001b[97m█\u001b[0m\u001b[97m█\u001b[0m\u001b[97m█\u001b[0m\u001b[97m█\u001b[0m\u001b[97m█\u001b[0m\u001b[97m█\u001b[0m\u001b[97m█\u001b[0m\u001b[97m█\u001b[0m\u001b[97m█\u001b[0m\u001b[97m█\u001b[0m\u001b[97m█\u001b[0m               |                    \u001b[K\u001b[F\u001b[K\u001b[F \u001b[1mIters\u001b[0m     \u001b[1mElapsed Time\u001b[0m      \u001b[1mSpeed\u001b[0m    \u001b[1mepoch\u001b[0m    \u001b[1mloss\u001b[0m                             \n",
      " \u001b[99m65/\u001b[93m100\u001b[0m\u001b[0m  \u001b[99m00:03:25<\u001b[93m00:01:50\u001b[0m\u001b[0m  \u001b[99m0.32it/s\u001b[0m  \u001b[99m65/100\u001b[0m  \u001b[99m0.03694\u001b[0m                           \n",
      "\u001b[1mDescription\u001b[0m  65.0% |\u001b[97m█\u001b[0m\u001b[97m█\u001b[0m\u001b[97m█\u001b[0m\u001b[97m█\u001b[0m\u001b[97m█\u001b[0m\u001b[97m█\u001b[0m\u001b[97m█\u001b[0m\u001b[97m█\u001b[0m\u001b[97m█\u001b[0m\u001b[97m█\u001b[0m\u001b[97m█\u001b[0m\u001b[97m█\u001b[0m\u001b[97m█\u001b[0m\u001b[97m█\u001b[0m\u001b[97m█\u001b[0m\u001b[97m█\u001b[0m\u001b[97m█\u001b[0m\u001b[97m█\u001b[0m\u001b[97m█\u001b[0m\u001b[97m█\u001b[0m\u001b[97m█\u001b[0m\u001b[97m█\u001b[0m\u001b[97m█\u001b[0m\u001b[97m█\u001b[0m\u001b[97m█\u001b[0m              |                    "
     ]
    }
   ],
   "source": [
    "best_loss = np.inf\n",
    "\n",
    "qqdm_train = qqdm(range(num_epochs), desc=format_str('bold', 'Description'), dynamic_ncols=False)\n",
    "for epoch in qqdm_train:\n",
    "    tot_loss = list()\n",
    "\n",
    "    for data in train_dataloader:\n",
    "        # ===================loading=====================\n",
    "        img = data.float().cuda()\n",
    "        if model_type in ['fcn']:\n",
    "            img = img.view(img.shape[0], -1)\n",
    "        # ===================train autoencoder=====================\n",
    "        model.train()\n",
    "        output = model(img)\n",
    "        if model_type in ['vae']:\n",
    "            loss = loss_vae(output[0], img, output[1], output[2], criterion)\n",
    "        else:\n",
    "            loss = criterion(output, img)\n",
    "        loss = loss.mean()\n",
    "        tot_loss.append(loss.item())\n",
    "        optimizer.zero_grad()\n",
    "        loss.backward()\n",
    "        optimizer.step()\n",
    "\n",
    "    # ===================save_best====================\n",
    "    mean_loss = np.mean(tot_loss)\n",
    "    if mean_loss < best_loss:\n",
    "        best_loss = mean_loss\n",
    "        torch.save(model, 'best_model_{}.pt'.format(model_type))\n",
    "    # ===================log========================\n",
    "    qqdm_train.set_infos({\n",
    "        'epoch': f'{epoch + 1:.0f}/{num_epochs:.0f}',\n",
    "        'loss':f'{np.mean(tot_loss):.5f}',\n",
    "    })\n",
    "\n",
    "\n",
    "# ===================save_last========================\n",
    "torch.save(model, 'last_model_{}.pt'.format(model_type))\n"
   ]
  },
  {
   "cell_type": "markdown",
   "metadata": {
    "id": "Wk0UxFuchLzR"
   },
   "source": [
    "# Inference\n",
    "Model is loaded and generates its anomaly score predictions."
   ]
  },
  {
   "cell_type": "markdown",
   "metadata": {
    "id": "evgMW3OwoGqD"
   },
   "source": [
    "## Initialize\n",
    "- dataloader\n",
    "- model\n",
    "- prediction file"
   ]
  },
  {
   "cell_type": "code",
   "execution_count": null,
   "metadata": {
    "id": "_MBnXAswoKmq"
   },
   "outputs": [],
   "source": [
    "eval_batch_size = 200\n",
    "\n",
    "# build testing dataloader\n",
    "data = torch.tensor(test, dtype=torch.float32)\n",
    "test_dataset = CustomTensorDataset(data)\n",
    "test_sampler = SequentialSampler(test_dataset)\n",
    "test_dataloader = DataLoader(test_dataset, sampler=test_sampler, batch_size=eval_batch_size, num_workers=1)\n",
    "eval_loss = nn.MSELoss(reduction='none')\n",
    "\n",
    "# load trained model\n",
    "checkpoint_path = f'best_model_{model_type}.pt'\n",
    "model = torch.load(checkpoint_path)\n",
    "model.eval()\n",
    "\n",
    "# prediction file \n",
    "out_file = 'prediction.csv'"
   ]
  },
  {
   "cell_type": "code",
   "execution_count": null,
   "metadata": {
    "id": "_1IxCX2iCW6V"
   },
   "outputs": [],
   "source": [
    "anomality = list()\n",
    "with torch.no_grad():\n",
    "  for i, data in enumerate(test_dataloader):\n",
    "    img = data.float().cuda()\n",
    "    if model_type in ['fcn']:\n",
    "      img = img.view(img.shape[0], -1)\n",
    "    output = model(img)\n",
    "    if model_type in ['vae']:\n",
    "      output = output[0]\n",
    "    if model_type in ['fcn']:\n",
    "        loss = eval_loss(output, img).sum(-1)\n",
    "    else:\n",
    "        loss = eval_loss(output, img).sum([1, 2, 3])\n",
    "    anomality.append(loss)\n",
    "anomality = torch.cat(anomality, axis=0)\n",
    "anomality = torch.sqrt(anomality).reshape(len(test), 1).cpu().numpy()\n",
    "\n",
    "df = pd.DataFrame(anomality, columns=['score'])\n",
    "df.to_csv(out_file, index_label = 'ID')"
   ]
  },
  {
   "cell_type": "markdown",
   "metadata": {},
   "source": [
    "# Gradescope"
   ]
  },
  {
   "cell_type": "code",
   "execution_count": null,
   "metadata": {},
   "outputs": [],
   "source": [
    "# import matplotlib.pyplot as plt\n",
    "# %matplotlib inline\n",
    "# checkpoint_path = f'best_model_fcn_{seed}.pt'\n",
    "# model = fcn_autoencoder()\n",
    "# model = torch.load(checkpoint_path)\n",
    "# model.eval()\n",
    "# with torch.no_grad():\n",
    "#     img = test_dataset[42].cuda()\n",
    "#     img = (img+1)/2\n",
    "#     image = np.transpose(img.cpu(), (1, 2, 0))\n",
    "#     plt.imshow(image)\n",
    "#     plt.show()\n",
    "#     shape = img.shape\n",
    "#     img = test_dataset[42].cuda().reshape([3*64*64])\n",
    "#     output = (model(img) + 1) / 2 \n",
    "#     output = output.reshape(shape).float().cuda()\n",
    "#     output = np.transpose(output.cpu(), (1, 2, 0))\n",
    "#     plt.imshow(output)\n",
    "#     plt.show()"
   ]
  },
  {
   "cell_type": "code",
   "execution_count": null,
   "metadata": {},
   "outputs": [],
   "source": []
  }
 ],
 "metadata": {
  "accelerator": "GPU",
  "colab": {
   "collapsed_sections": [
    "bDk9r2YOcDc9",
    "Oi12tJMYWi0Q",
    "DCgNXSsEWuY7",
    "HNe7QU7n7cqh",
    "6X6fkGPnYyaF",
    "1EbfwRREhA7c",
    "vrJ9bScg9AgO",
    "XKNUImqUhIeq"
   ],
   "provenance": []
  },
  "gpuClass": "standard",
  "kernelspec": {
   "display_name": "Python [conda env:hw8]",
   "language": "python",
   "name": "conda-env-hw8-py"
  },
  "language_info": {
   "codemirror_mode": {
    "name": "ipython",
    "version": 3
   },
   "file_extension": ".py",
   "mimetype": "text/x-python",
   "name": "python",
   "nbconvert_exporter": "python",
   "pygments_lexer": "ipython3",
   "version": "3.8.15"
  }
 },
 "nbformat": 4,
 "nbformat_minor": 1
}
